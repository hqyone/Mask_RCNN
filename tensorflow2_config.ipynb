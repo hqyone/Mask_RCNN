{
 "cells": [
  {
   "cell_type": "markdown",
   "source": [
    "# Install Tensorflow 2.0 with GPU support to RUN MastRCNN\n",
    "### Created by Quanyuan He (2021/9/1)"
   ],
   "metadata": {}
  },
  {
   "cell_type": "markdown",
   "source": [
    "# 0. Get System infomation\n",
    "```\n",
    "    # Show all drivers\n",
    "    !ubuntu-drivers devices\n",
    "    # get cuda version\n",
    "    !nvcc --version\n",
    "    # check ubuntu version\n",
    "    !lsb_release -a\n",
    "```"
   ],
   "metadata": {}
  },
  {
   "cell_type": "markdown",
   "source": [
    "# 1. Check the version combination\n",
    "### Tested build configurations can be found here: https://www.tensorflow.org/install/source#gpu\n",
    "### Please make sure all version is matched!!!!"
   ],
   "metadata": {}
  },
  {
   "cell_type": "markdown",
   "source": [
    "# 2. Setup python enviroment\n",
    "* Conda 4.10.1\n",
    "* Tersorflow=2.6 (current last version)\n",
    "* scikit-image = 0.18  (may be 0.16.2 is better to avoid warning message)\n"
   ],
   "metadata": {}
  },
  {
   "cell_type": "markdown",
   "source": [
    "## Download anaconda install bash file from https://www.anaconda.com/products/individual#Downloads\n",
    "```\n",
    "        sudo chmod +x Anaconda3-2021.05-Linux-x86_64.sh\n",
    "        ./Anaconda3-2021.05-Linux-x86_64.sh\n",
    "```\n",
    "## create a environment using python 3.8 \n",
    "```\n",
    "        conda create -n tf2 python=3.8\n",
    "```\n",
    "## Install other required package, here tensorflow will be 2.6\n",
    "```\n",
    "        python -m pip install tensorflow\n",
    "        python -m pip install -U scikit-image\n",
    "        python -m pip install imagaug\n",
    "        python -m pip install pycocotools\n",
    "        python -m pip install jupyter\n",
    "        pip install git\n",
    "```"
   ],
   "metadata": {}
  },
  {
   "cell_type": "markdown",
   "source": [
    "# 3. Install CUDA and cuDNN8.1\n",
    "1. follow the url (https://www.tensorflow.org/install/gpu) to insall all driver and packages for Ubuntu 18.04 (CUDA 11.0), it is ok for ubuntu 20\n",
    "*  you can check the conditions by\n",
    "````\n",
    "        nvidia-smi  \n",
    "````\n",
    "2. The step 1 only installs cuDNN 8.0, but we need cuDNN 8.1\n",
    "````\n",
    "        Download deb file from evidia website (libcudnn8_8.1.0.77-1+cuda11.2_amd64.deb) to re-install these two package.\n",
    "        sudo apt install /home/hqyone/mnt/2tb/hunnu/lxg/tools/nvidia/libcudnn8_8.1.0.77-1+cuda11.2_amd64.deb\n",
    "````\n",
    "3. make sure the cuda path and lib path directed to correct folder\n",
    "```\n",
    "        vim ~/.bashrc\n",
    "        export PATH=/usr/local/cuda-11.0/bin:$PATH\n",
    "        export LD_LIBRARY_PATH=/usr/local/cuda-11.0/targets/x86_64-linux/lib\n",
    "```\n",
    "4. Fix can't find libcusolver.so.11 issue\n",
    "```\n",
    "        !sudo ln -s /usr/local/cuda-11.0/lib64/libcusolver.so.10 /usr/local/cuda-11.0/lib64/libcusolver.so.11\n",
    "```\n",
    "5. reboot\n",
    "6. Check the available of GPU for tensorflow\n",
    "```\n",
    "        tf.test.is_gpu_available(cuda_only=False, min_cuda_compute_capability=None)\n",
    "        tf.config.list_physical_devices('GPU')\n",
    "```"
   ],
   "metadata": {}
  },
  {
   "cell_type": "markdown",
   "source": [
    "# 4 Download and modified Maskrcnn repository\n",
    "* Serveral version of MaskRCNN are acknowledged can be used by Tersorflow 2.0\n",
    "* However, there are some bugs need be fixex before wrong it\n",
    "* Download the git clone code or using this version directly\n",
    "```\n",
    "    git clone the https://github.com/leekunhee/Mask_RCNN\n",
    "```\n",
    "* Fix the memory leaking issue.\n",
    "    Add following code to the begining of model.py\n",
    "    ```\n",
    "    import tensorflow as tf\n",
    "    gpus = tf.config.experimental.list_physical_devices('GPU')\n",
    "    if len(gpus)>0:\n",
    "        tf.config.experimental.set_memory_growth(gpus[0], True)\n",
    "    ```\n",
    "* Fix the out of index issue in generate mask for balloon project\n",
    "    Open balloon.py insert following code below the line 167\n",
    "    ```\n",
    "    rr = np.clip(rr, 0, info[\"height\"]-1)\n",
    "    cc = np.clip(cc, 0, info[\"width\"]-1)\n",
    "    ```\n",
    "* model.py line 2378-2379 need be changed to:\n",
    "```\n",
    "    workers=1,\n",
    "    use_multiprocessing=False,\n",
    "```\n"
   ],
   "metadata": {}
  },
  {
   "cell_type": "markdown",
   "source": [
    "# 5. get rid of any NVIDIA/CUDA packages you may already have installed\n",
    "### Uninstall CUDA\n",
    "```\n",
    "    !sudo rm /etc/apt/sources.list.d/cuda*\n",
    "    !sudo apt remove --autoremove nvidia-cuda-toolkit\n",
    "    !sudo apt remove --autoremove nvidia-*\n",
    "```\n",
    "### Purge any remaining NVIDIA configuration files and the associated dependencies that they may have been installed with.\n",
    "```\n",
    "    sudo apt-get purge nvidia*\n",
    "    sudo apt-get autoremove\n",
    "    sudo apt-get autoclean\n",
    "```\n",
    "### Remove any existing CUDA folders you may have in /usr/local/\n",
    "```\n",
    "    sudo rm -rf /usr/local/cuda*\n",
    "```"
   ],
   "metadata": {}
  },
  {
   "cell_type": "markdown",
   "source": [],
   "metadata": {}
  }
 ],
 "metadata": {
  "orig_nbformat": 4,
  "language_info": {
   "name": "python",
   "version": "3.8.11",
   "mimetype": "text/x-python",
   "codemirror_mode": {
    "name": "ipython",
    "version": 3
   },
   "pygments_lexer": "ipython3",
   "nbconvert_exporter": "python",
   "file_extension": ".py"
  },
  "kernelspec": {
   "name": "python3",
   "display_name": "Python 3.8.11 64-bit ('tf2': conda)"
  },
  "interpreter": {
   "hash": "f7e99148882fe44a98809c91815cc05a4ce936fed4ba50858152b455a5b2fa7b"
  }
 },
 "nbformat": 4,
 "nbformat_minor": 2
}